{
 "cells": [
  {
   "cell_type": "code",
   "execution_count": 4,
   "id": "b53e4820",
   "metadata": {
    "scrolled": true
   },
   "outputs": [
    {
     "name": "stdout",
     "output_type": "stream",
     "text": [
      "Requirement already satisfied: ipywidgets in c:\\users\\hocke_yr5sylf\\anaconda3\\lib\\site-packages (8.0.4)\n",
      "Requirement already satisfied: ipykernel>=4.5.1 in c:\\users\\hocke_yr5sylf\\anaconda3\\lib\\site-packages (from ipywidgets) (6.25.0)\n",
      "Requirement already satisfied: ipython>=6.1.0 in c:\\users\\hocke_yr5sylf\\anaconda3\\lib\\site-packages (from ipywidgets) (8.15.0)\n",
      "Requirement already satisfied: traitlets>=4.3.1 in c:\\users\\hocke_yr5sylf\\anaconda3\\lib\\site-packages (from ipywidgets) (5.7.1)\n",
      "Requirement already satisfied: widgetsnbextension~=4.0 in c:\\users\\hocke_yr5sylf\\anaconda3\\lib\\site-packages (from ipywidgets) (4.0.5)\n",
      "Requirement already satisfied: jupyterlab-widgets~=3.0 in c:\\users\\hocke_yr5sylf\\anaconda3\\lib\\site-packages (from ipywidgets) (3.0.5)\n",
      "Requirement already satisfied: comm>=0.1.1 in c:\\users\\hocke_yr5sylf\\anaconda3\\lib\\site-packages (from ipykernel>=4.5.1->ipywidgets) (0.1.2)\n",
      "Requirement already satisfied: debugpy>=1.6.5 in c:\\users\\hocke_yr5sylf\\anaconda3\\lib\\site-packages (from ipykernel>=4.5.1->ipywidgets) (1.6.7)\n",
      "Requirement already satisfied: jupyter-client>=6.1.12 in c:\\users\\hocke_yr5sylf\\anaconda3\\lib\\site-packages (from ipykernel>=4.5.1->ipywidgets) (7.4.9)\n",
      "Requirement already satisfied: jupyter-core!=5.0.*,>=4.12 in c:\\users\\hocke_yr5sylf\\anaconda3\\lib\\site-packages (from ipykernel>=4.5.1->ipywidgets) (5.3.0)\n",
      "Requirement already satisfied: matplotlib-inline>=0.1 in c:\\users\\hocke_yr5sylf\\anaconda3\\lib\\site-packages (from ipykernel>=4.5.1->ipywidgets) (0.1.6)\n",
      "Requirement already satisfied: nest-asyncio in c:\\users\\hocke_yr5sylf\\anaconda3\\lib\\site-packages (from ipykernel>=4.5.1->ipywidgets) (1.5.6)\n",
      "Requirement already satisfied: packaging in c:\\users\\hocke_yr5sylf\\anaconda3\\lib\\site-packages (from ipykernel>=4.5.1->ipywidgets) (23.1)\n",
      "Requirement already satisfied: psutil in c:\\users\\hocke_yr5sylf\\anaconda3\\lib\\site-packages (from ipykernel>=4.5.1->ipywidgets) (5.9.0)\n",
      "Requirement already satisfied: pyzmq>=20 in c:\\users\\hocke_yr5sylf\\anaconda3\\lib\\site-packages (from ipykernel>=4.5.1->ipywidgets) (23.2.0)\n",
      "Requirement already satisfied: tornado>=6.1 in c:\\users\\hocke_yr5sylf\\anaconda3\\lib\\site-packages (from ipykernel>=4.5.1->ipywidgets) (6.3.2)\n",
      "Requirement already satisfied: backcall in c:\\users\\hocke_yr5sylf\\anaconda3\\lib\\site-packages (from ipython>=6.1.0->ipywidgets) (0.2.0)\n",
      "Requirement already satisfied: decorator in c:\\users\\hocke_yr5sylf\\anaconda3\\lib\\site-packages (from ipython>=6.1.0->ipywidgets) (5.1.1)\n",
      "Requirement already satisfied: jedi>=0.16 in c:\\users\\hocke_yr5sylf\\anaconda3\\lib\\site-packages (from ipython>=6.1.0->ipywidgets) (0.18.1)\n",
      "Requirement already satisfied: pickleshare in c:\\users\\hocke_yr5sylf\\anaconda3\\lib\\site-packages (from ipython>=6.1.0->ipywidgets) (0.7.5)\n",
      "Requirement already satisfied: prompt-toolkit!=3.0.37,<3.1.0,>=3.0.30 in c:\\users\\hocke_yr5sylf\\anaconda3\\lib\\site-packages (from ipython>=6.1.0->ipywidgets) (3.0.36)\n",
      "Requirement already satisfied: pygments>=2.4.0 in c:\\users\\hocke_yr5sylf\\anaconda3\\lib\\site-packages (from ipython>=6.1.0->ipywidgets) (2.15.1)\n",
      "Requirement already satisfied: stack-data in c:\\users\\hocke_yr5sylf\\anaconda3\\lib\\site-packages (from ipython>=6.1.0->ipywidgets) (0.2.0)\n",
      "Requirement already satisfied: colorama in c:\\users\\hocke_yr5sylf\\anaconda3\\lib\\site-packages (from ipython>=6.1.0->ipywidgets) (0.4.6)\n",
      "Requirement already satisfied: parso<0.9.0,>=0.8.0 in c:\\users\\hocke_yr5sylf\\anaconda3\\lib\\site-packages (from jedi>=0.16->ipython>=6.1.0->ipywidgets) (0.8.3)\n",
      "Requirement already satisfied: entrypoints in c:\\users\\hocke_yr5sylf\\anaconda3\\lib\\site-packages (from jupyter-client>=6.1.12->ipykernel>=4.5.1->ipywidgets) (0.4)\n",
      "Requirement already satisfied: python-dateutil>=2.8.2 in c:\\users\\hocke_yr5sylf\\anaconda3\\lib\\site-packages (from jupyter-client>=6.1.12->ipykernel>=4.5.1->ipywidgets) (2.8.2)\n",
      "Requirement already satisfied: platformdirs>=2.5 in c:\\users\\hocke_yr5sylf\\anaconda3\\lib\\site-packages (from jupyter-core!=5.0.*,>=4.12->ipykernel>=4.5.1->ipywidgets) (3.10.0)\n",
      "Requirement already satisfied: pywin32>=300 in c:\\users\\hocke_yr5sylf\\anaconda3\\lib\\site-packages (from jupyter-core!=5.0.*,>=4.12->ipykernel>=4.5.1->ipywidgets) (305.1)\n",
      "Requirement already satisfied: wcwidth in c:\\users\\hocke_yr5sylf\\anaconda3\\lib\\site-packages (from prompt-toolkit!=3.0.37,<3.1.0,>=3.0.30->ipython>=6.1.0->ipywidgets) (0.2.5)\n",
      "Requirement already satisfied: executing in c:\\users\\hocke_yr5sylf\\anaconda3\\lib\\site-packages (from stack-data->ipython>=6.1.0->ipywidgets) (0.8.3)\n",
      "Requirement already satisfied: asttokens in c:\\users\\hocke_yr5sylf\\anaconda3\\lib\\site-packages (from stack-data->ipython>=6.1.0->ipywidgets) (2.0.5)\n",
      "Requirement already satisfied: pure-eval in c:\\users\\hocke_yr5sylf\\anaconda3\\lib\\site-packages (from stack-data->ipython>=6.1.0->ipywidgets) (0.2.2)\n",
      "Requirement already satisfied: six>=1.5 in c:\\users\\hocke_yr5sylf\\anaconda3\\lib\\site-packages (from python-dateutil>=2.8.2->jupyter-client>=6.1.12->ipykernel>=4.5.1->ipywidgets) (1.16.0)\n"
     ]
    }
   ],
   "source": [
    "!pip install ipywidgets"
   ]
  },
  {
   "cell_type": "code",
   "execution_count": 32,
   "id": "efced85c",
   "metadata": {},
   "outputs": [
    {
     "name": "stdout",
     "output_type": "stream",
     "text": [
      "Can volume in mL: 355\n",
      "Dimensions: {'length': 1.527904, 'width': 3.009088, 'height': 1.527904}\n",
      "Volume: 5.2119556562790015 cubic units\n",
      "Surface Area: 302.26939137807705 square units\n",
      "Conversion factor for matching volume: 4.083907345092163\n"
     ]
    }
   ],
   "source": [
    "import trimesh\n",
    "import numpy as np\n",
    "\n",
    "# Load the mesh\n",
    "file_path = r\"C:\\Users\\hocke_yr5sylf\\Downloads\\CanOBJ\\CanOBJ.obj\"\n",
    "mesh = trimesh.load(file_path)\n",
    "\n",
    "# Calculate dimensions\n",
    "bounding_box = mesh.bounding_box.bounds\n",
    "dimensions = {\n",
    "    'length': bounding_box[1][0] - bounding_box[0][0],\n",
    "    'width': bounding_box[1][1] - bounding_box[0][1],\n",
    "    'height': bounding_box[1][2] - bounding_box[0][2]\n",
    "}\n",
    "\n",
    "# Calculate volume and surface area\n",
    "volume = mesh.volume\n",
    "surface_area = mesh.area\n",
    "\n",
    "# Get user input for can volume and convert units\n",
    "vol = int(input(\"Can volume in mL: \"))\n",
    "conv = np.cbrt(vol / volume)\n",
    "\n",
    "# Display results\n",
    "print(f\"Dimensions: {dimensions}\")\n",
    "print(f\"Volume: {volume} cubic units\")\n",
    "print(f\"Surface Area: {surface_area*conv**2} square units\")\n",
    "print(f\"Conversion factor for matching volume: {conv}\")\n"
   ]
  },
  {
   "cell_type": "markdown",
   "id": "58cddb56",
   "metadata": {},
   "source": [
    "# Optimization"
   ]
  },
  {
   "cell_type": "code",
   "execution_count": 44,
   "id": "7a94272d",
   "metadata": {},
   "outputs": [
    {
     "name": "stdout",
     "output_type": "stream",
     "text": [
      "5.2119556562790015\n",
      "Can volume in mL: 355\n",
      "Original Dimensions: {'length': 1.527904, 'width': 3.009088, 'height': 1.527904}\n",
      "Original Volume: 355.0 cm^3\n",
      "Optimized Radius (r): 1.567083175576128 cm\n",
      "Optimized Height (h): 3.134166218937089 cm\n",
      "Surface Area of Original Cylinder: 302.26939137807705 cm^2\n",
      "Surface Area of Optimized Cylinder: 46.28978960505994 cm^2\n"
     ]
    }
   ],
   "source": [
    "import trimesh\n",
    "import numpy as np\n",
    "from scipy.optimize import minimize\n",
    "\n",
    "# Load the mesh\n",
    "file_path = r\"C:\\Users\\hocke_yr5sylf\\Downloads\\CanOBJ\\CanOBJ.obj\"\n",
    "mesh = trimesh.load(file_path)\n",
    "\n",
    "# Calculate dimensions\n",
    "bounding_box = mesh.bounding_box.bounds\n",
    "dimensions = {\n",
    "    'length': bounding_box[1][0] - bounding_box[0][0],\n",
    "    'width': bounding_box[1][1] - bounding_box[0][1],\n",
    "    'height': bounding_box[1][2] - bounding_box[0][2]\n",
    "}\n",
    "\n",
    "# Calculate volume of the mesh\n",
    "volume = mesh.volume\n",
    "print(volume)\n",
    "# Get user input for can volume and convert units\n",
    "vol = int(input(\"Can volume in mL: \"))\n",
    "conv = np.cbrt(vol / volume)\n",
    "\n",
    "# Function to minimize (surface area of the cylinder)\n",
    "def surface_area(x):\n",
    "    r, h = x\n",
    "    return 2 * np.pi * r * (r + h)\n",
    "\n",
    "# Constraint (volume of the cylinder)\n",
    "def volume_constraint(x):\n",
    "    r, h = x\n",
    "    return np.pi * r**2 * h - vol_cubic_units\n",
    "\n",
    "# Initial guess for r and h\n",
    "initial_guess = [dimensions['width'] / 2, dimensions['height']]\n",
    "\n",
    "# Constraints dictionary for the optimization\n",
    "constraints = ({'type': 'eq', 'fun': volume_constraint})\n",
    "\n",
    "# Boundaries for r and h (both must be positive)\n",
    "bounds = [(0, None), (0, None)]\n",
    "\n",
    "# Perform the optimization\n",
    "result = minimize(surface_area, initial_guess, constraints=constraints, bounds=bounds)\n",
    "\n",
    "# Extract the optimized r and h\n",
    "optimized_r, optimized_h = result.x\n",
    "\n",
    "# Display results\n",
    "print(f\"Original Dimensions: {dimensions}\")\n",
    "print(f\"Original Volume: {volume*conv**3} cm^3\")\n",
    "print(f\"Optimized Radius (r): {optimized_r*conv} cm\")\n",
    "print(f\"Optimized Height (h): {optimized_h*conv} cm\")\n",
    "print(f\"Surface Area of Original Cylinder: {mesh.area*conv**2} cm^2\")\n",
    "print(f\"Surface Area of Optimized Cylinder: {surface_area(result.x)*conv**2} cm^2\")\n"
   ]
  },
  {
   "cell_type": "code",
   "execution_count": 41,
   "id": "d1c139f5",
   "metadata": {},
   "outputs": [
    {
     "data": {
      "text/plain": [
       "4.083907345092163"
      ]
     },
     "execution_count": 41,
     "metadata": {},
     "output_type": "execute_result"
    }
   ],
   "source": [
    "np.cbrt(vol/volume)"
   ]
  },
  {
   "cell_type": "code",
   "execution_count": 45,
   "id": "355e500e",
   "metadata": {},
   "outputs": [
    {
     "data": {
      "text/plain": [
       "1.9999999156297703"
      ]
     },
     "execution_count": 45,
     "metadata": {},
     "output_type": "execute_result"
    }
   ],
   "source": [
    "optimized_h/optimized_r"
   ]
  },
  {
   "cell_type": "code",
   "execution_count": 43,
   "id": "26d27565",
   "metadata": {},
   "outputs": [
    {
     "data": {
      "text/plain": [
       "355.0"
      ]
     },
     "execution_count": 43,
     "metadata": {},
     "output_type": "execute_result"
    }
   ],
   "source": [
    "conv**3*volume"
   ]
  },
  {
   "cell_type": "code",
   "execution_count": 29,
   "id": "3a45979b",
   "metadata": {},
   "outputs": [
    {
     "data": {
      "text/plain": [
       "302.0571432292434"
      ]
     },
     "execution_count": 29,
     "metadata": {},
     "output_type": "execute_result"
    }
   ],
   "source": [
    "r=min(dimensions.values())/2\n",
    "h=max(dimensions.values())\n",
    "\n",
    "2*np.pi*r*(h+r)*conv**2"
   ]
  },
  {
   "cell_type": "code",
   "execution_count": 27,
   "id": "b2c890f6",
   "metadata": {},
   "outputs": [
    {
     "data": {
      "text/plain": [
       "3.009088"
      ]
     },
     "execution_count": 27,
     "metadata": {},
     "output_type": "execute_result"
    }
   ],
   "source": [
    "new values:"
   ]
  }
 ],
 "metadata": {
  "kernelspec": {
   "display_name": "Python 3 (ipykernel)",
   "language": "python",
   "name": "python3"
  },
  "language_info": {
   "codemirror_mode": {
    "name": "ipython",
    "version": 3
   },
   "file_extension": ".py",
   "mimetype": "text/x-python",
   "name": "python",
   "nbconvert_exporter": "python",
   "pygments_lexer": "ipython3",
   "version": "3.11.5"
  }
 },
 "nbformat": 4,
 "nbformat_minor": 5
}
